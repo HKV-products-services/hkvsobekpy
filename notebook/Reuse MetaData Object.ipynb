{
 "cells": [
  {
   "cell_type": "code",
   "execution_count": 1,
   "metadata": {},
   "outputs": [
    {
     "data": {
      "text/plain": [
       "'1.5'"
      ]
     },
     "execution_count": 1,
     "metadata": {},
     "output_type": "execute_result"
    }
   ],
   "source": [
    "import hkvsobekpy as hkv\n",
    "hkv.__version__"
   ]
  },
  {
   "cell_type": "code",
   "execution_count": 2,
   "metadata": {},
   "outputs": [],
   "source": [
    "fp_base = '/DATAFOLDER/projects/3815_30/data/rksHBV216/hisfiles/Afkanaal.lit/t01_000_BNDFLODT.HIS'\n",
    "fp_test = '/DATAFOLDER/projects/3815_30/data/rksHBV216/hisfiles/Afkanaal.lit/t01_001_BNDFLODT.HIS'"
   ]
  },
  {
   "cell_type": "code",
   "execution_count": 3,
   "metadata": {},
   "outputs": [
    {
     "name": "stdout",
     "output_type": "stream",
     "text": [
      "CPU times: user 528 ms, sys: 83.9 ms, total: 612 ms\n",
      "Wall time: 609 ms\n"
     ]
    }
   ],
   "source": [
    "%%time\n",
    "his = hkv.read_his.ReadMetadata(fp_base)"
   ]
  },
  {
   "cell_type": "code",
   "execution_count": 4,
   "metadata": {},
   "outputs": [
    {
     "name": "stdout",
     "output_type": "stream",
     "text": [
      "CPU times: user 41.4 ms, sys: 241 µs, total: 41.7 ms\n",
      "Wall time: 40 ms\n"
     ]
    },
    {
     "data": {
      "text/html": [
       "<div>\n",
       "<style scoped>\n",
       "    .dataframe tbody tr th:only-of-type {\n",
       "        vertical-align: middle;\n",
       "    }\n",
       "\n",
       "    .dataframe tbody tr th {\n",
       "        vertical-align: top;\n",
       "    }\n",
       "\n",
       "    .dataframe thead tr th {\n",
       "        text-align: left;\n",
       "    }\n",
       "</style>\n",
       "<table border=\"1\" class=\"dataframe\">\n",
       "  <thead>\n",
       "    <tr>\n",
       "      <th></th>\n",
       "      <th colspan=\"2\" halign=\"left\">Boundary Level [m AD</th>\n",
       "      <th colspan=\"2\" halign=\"left\">Flow [m3/s] avg</th>\n",
       "    </tr>\n",
       "    <tr>\n",
       "      <th></th>\n",
       "      <th>1</th>\n",
       "      <th>Afw. kanaal</th>\n",
       "      <th>1</th>\n",
       "      <th>Afw. kanaal</th>\n",
       "    </tr>\n",
       "  </thead>\n",
       "  <tbody>\n",
       "    <tr>\n",
       "      <td>1999-01-01</td>\n",
       "      <td>0.5</td>\n",
       "      <td>0.5</td>\n",
       "      <td>0.0</td>\n",
       "      <td>0.000000</td>\n",
       "    </tr>\n",
       "    <tr>\n",
       "      <td>1999-01-02</td>\n",
       "      <td>0.5</td>\n",
       "      <td>0.5</td>\n",
       "      <td>0.0</td>\n",
       "      <td>14.203320</td>\n",
       "    </tr>\n",
       "    <tr>\n",
       "      <td>1999-01-03</td>\n",
       "      <td>0.5</td>\n",
       "      <td>0.5</td>\n",
       "      <td>0.0</td>\n",
       "      <td>13.268001</td>\n",
       "    </tr>\n",
       "    <tr>\n",
       "      <td>1999-01-04</td>\n",
       "      <td>0.5</td>\n",
       "      <td>0.5</td>\n",
       "      <td>0.0</td>\n",
       "      <td>11.125848</td>\n",
       "    </tr>\n",
       "    <tr>\n",
       "      <td>1999-01-05</td>\n",
       "      <td>0.5</td>\n",
       "      <td>0.5</td>\n",
       "      <td>0.0</td>\n",
       "      <td>9.346498</td>\n",
       "    </tr>\n",
       "  </tbody>\n",
       "</table>\n",
       "</div>"
      ],
      "text/plain": [
       "           Boundary Level [m AD             Flow [m3/s] avg                 \n",
       "                              1 Afw. kanaal                    1 Afw. kanaal\n",
       "1999-01-01                  0.5         0.5                  0.0    0.000000\n",
       "1999-01-02                  0.5         0.5                  0.0   14.203320\n",
       "1999-01-03                  0.5         0.5                  0.0   13.268001\n",
       "1999-01-04                  0.5         0.5                  0.0   11.125848\n",
       "1999-01-05                  0.5         0.5                  0.0    9.346498"
      ]
     },
     "execution_count": 4,
     "metadata": {},
     "output_type": "execute_result"
    }
   ],
   "source": [
    "%%time\n",
    "# read his-base from fp_base\n",
    "df_base = his.DataFrame()\n",
    "df_base.head()"
   ]
  },
  {
   "cell_type": "code",
   "execution_count": 5,
   "metadata": {},
   "outputs": [
    {
     "name": "stdout",
     "output_type": "stream",
     "text": [
      "CPU times: user 37.6 ms, sys: 230 µs, total: 37.8 ms\n",
      "Wall time: 36.1 ms\n"
     ]
    },
    {
     "data": {
      "text/html": [
       "<div>\n",
       "<style scoped>\n",
       "    .dataframe tbody tr th:only-of-type {\n",
       "        vertical-align: middle;\n",
       "    }\n",
       "\n",
       "    .dataframe tbody tr th {\n",
       "        vertical-align: top;\n",
       "    }\n",
       "\n",
       "    .dataframe thead tr th {\n",
       "        text-align: left;\n",
       "    }\n",
       "</style>\n",
       "<table border=\"1\" class=\"dataframe\">\n",
       "  <thead>\n",
       "    <tr>\n",
       "      <th></th>\n",
       "      <th colspan=\"2\" halign=\"left\">Boundary Level [m AD</th>\n",
       "      <th colspan=\"2\" halign=\"left\">Flow [m3/s] avg</th>\n",
       "    </tr>\n",
       "    <tr>\n",
       "      <th></th>\n",
       "      <th>1</th>\n",
       "      <th>Afw. kanaal</th>\n",
       "      <th>1</th>\n",
       "      <th>Afw. kanaal</th>\n",
       "    </tr>\n",
       "  </thead>\n",
       "  <tbody>\n",
       "    <tr>\n",
       "      <td>1999-01-01</td>\n",
       "      <td>0.5</td>\n",
       "      <td>0.5</td>\n",
       "      <td>0.0</td>\n",
       "      <td>0.000000</td>\n",
       "    </tr>\n",
       "    <tr>\n",
       "      <td>1999-01-02</td>\n",
       "      <td>0.5</td>\n",
       "      <td>0.5</td>\n",
       "      <td>0.0</td>\n",
       "      <td>14.217094</td>\n",
       "    </tr>\n",
       "    <tr>\n",
       "      <td>1999-01-03</td>\n",
       "      <td>0.5</td>\n",
       "      <td>0.5</td>\n",
       "      <td>0.0</td>\n",
       "      <td>13.300286</td>\n",
       "    </tr>\n",
       "    <tr>\n",
       "      <td>1999-01-04</td>\n",
       "      <td>0.5</td>\n",
       "      <td>0.5</td>\n",
       "      <td>0.0</td>\n",
       "      <td>11.162338</td>\n",
       "    </tr>\n",
       "    <tr>\n",
       "      <td>1999-01-05</td>\n",
       "      <td>0.5</td>\n",
       "      <td>0.5</td>\n",
       "      <td>0.0</td>\n",
       "      <td>9.385917</td>\n",
       "    </tr>\n",
       "  </tbody>\n",
       "</table>\n",
       "</div>"
      ],
      "text/plain": [
       "           Boundary Level [m AD             Flow [m3/s] avg                 \n",
       "                              1 Afw. kanaal                    1 Afw. kanaal\n",
       "1999-01-01                  0.5         0.5                  0.0    0.000000\n",
       "1999-01-02                  0.5         0.5                  0.0   14.217094\n",
       "1999-01-03                  0.5         0.5                  0.0   13.300286\n",
       "1999-01-04                  0.5         0.5                  0.0   11.162338\n",
       "1999-01-05                  0.5         0.5                  0.0    9.385917"
      ]
     },
     "execution_count": 5,
     "metadata": {},
     "output_type": "execute_result"
    }
   ],
   "source": [
    "%%time\n",
    "# use metadata of his-base to read fp_test\n",
    "his.hisFile.hisFileName = fp_test\n",
    "df_test = his.DataFrame()\n",
    "df_test.head()"
   ]
  },
  {
   "cell_type": "code",
   "execution_count": 6,
   "metadata": {},
   "outputs": [],
   "source": [
    "# for comparison the 'old method' (not anymore recommended for 'normal' usages)"
   ]
  },
  {
   "cell_type": "code",
   "execution_count": 7,
   "metadata": {},
   "outputs": [
    {
     "name": "stdout",
     "output_type": "stream",
     "text": [
      "CPU times: user 5.5 s, sys: 307 ms, total: 5.81 s\n",
      "Wall time: 5.8 s\n"
     ]
    },
    {
     "data": {
      "text/html": [
       "<div>\n",
       "<style scoped>\n",
       "    .dataframe tbody tr th:only-of-type {\n",
       "        vertical-align: middle;\n",
       "    }\n",
       "\n",
       "    .dataframe tbody tr th {\n",
       "        vertical-align: top;\n",
       "    }\n",
       "\n",
       "    .dataframe thead tr th {\n",
       "        text-align: left;\n",
       "    }\n",
       "\n",
       "    .dataframe thead tr:last-of-type th {\n",
       "        text-align: right;\n",
       "    }\n",
       "</style>\n",
       "<table border=\"1\" class=\"dataframe\">\n",
       "  <thead>\n",
       "    <tr>\n",
       "      <th>parameters</th>\n",
       "      <th colspan=\"2\" halign=\"left\">Flow [m3/s] avg</th>\n",
       "      <th colspan=\"2\" halign=\"left\">Boundary Level [m AD</th>\n",
       "    </tr>\n",
       "    <tr>\n",
       "      <th>locations</th>\n",
       "      <th>Afw. kanaal</th>\n",
       "      <th>1</th>\n",
       "      <th>Afw. kanaal</th>\n",
       "      <th>1</th>\n",
       "    </tr>\n",
       "    <tr>\n",
       "      <th>date</th>\n",
       "      <th></th>\n",
       "      <th></th>\n",
       "      <th></th>\n",
       "      <th></th>\n",
       "    </tr>\n",
       "  </thead>\n",
       "  <tbody>\n",
       "    <tr>\n",
       "      <td>1999-01-01</td>\n",
       "      <td>0.000000</td>\n",
       "      <td>0.0</td>\n",
       "      <td>0.5</td>\n",
       "      <td>0.5</td>\n",
       "    </tr>\n",
       "    <tr>\n",
       "      <td>1999-01-02</td>\n",
       "      <td>14.217094</td>\n",
       "      <td>0.0</td>\n",
       "      <td>0.5</td>\n",
       "      <td>0.5</td>\n",
       "    </tr>\n",
       "    <tr>\n",
       "      <td>1999-01-03</td>\n",
       "      <td>13.300286</td>\n",
       "      <td>0.0</td>\n",
       "      <td>0.5</td>\n",
       "      <td>0.5</td>\n",
       "    </tr>\n",
       "    <tr>\n",
       "      <td>1999-01-04</td>\n",
       "      <td>11.162338</td>\n",
       "      <td>0.0</td>\n",
       "      <td>0.5</td>\n",
       "      <td>0.5</td>\n",
       "    </tr>\n",
       "    <tr>\n",
       "      <td>1999-01-05</td>\n",
       "      <td>9.385917</td>\n",
       "      <td>0.0</td>\n",
       "      <td>0.5</td>\n",
       "      <td>0.5</td>\n",
       "    </tr>\n",
       "  </tbody>\n",
       "</table>\n",
       "</div>"
      ],
      "text/plain": [
       "parameters Flow [m3/s] avg           Boundary Level [m AD     \n",
       "locations           Afw. kanaal    1          Afw. kanaal    1\n",
       "date                                                          \n",
       "1999-01-01             0.000000  0.0                  0.5  0.5\n",
       "1999-01-02            14.217094  0.0                  0.5  0.5\n",
       "1999-01-03            13.300286  0.0                  0.5  0.5\n",
       "1999-01-04            11.162338  0.0                  0.5  0.5\n",
       "1999-01-05             9.385917  0.0                  0.5  0.5"
      ]
     },
     "execution_count": 7,
     "metadata": {},
     "output_type": "execute_result"
    }
   ],
   "source": [
    "%%time\n",
    "his.MultiWaardenArray(his.GetLocations(), his.GetParameters()).head()"
   ]
  },
  {
   "cell_type": "code",
   "execution_count": null,
   "metadata": {},
   "outputs": [],
   "source": []
  }
 ],
 "metadata": {
  "kernelspec": {
   "display_name": "Python 3",
   "language": "python",
   "name": "python3"
  },
  "language_info": {
   "codemirror_mode": {
    "name": "ipython",
    "version": 3
   },
   "file_extension": ".py",
   "mimetype": "text/x-python",
   "name": "python",
   "nbconvert_exporter": "python",
   "pygments_lexer": "ipython3",
   "version": "3.6.7"
  }
 },
 "nbformat": 4,
 "nbformat_minor": 4
}
