{
 "cells": [
  {
   "cell_type": "markdown",
   "metadata": {},
   "source": [
    "## plausibiliteit op basis vanuit neerslag gevens in bui-bestanden en waterstanden en afvoeren in opgeslagen in his-bestanden"
   ]
  },
  {
   "cell_type": "markdown",
   "metadata": {},
   "source": [
    "Deze notebook bevat informatie hoe het mogelijk is om .his- en .bui-bestanden uit te lezen binnen Python en op welke manier hieruit de plausibiliteitsuit af te leiden. Een aantal functies worden hierbij toegelicht. Waarbij elke functie in detail is beschreven in de toebehorende `docstring`."
   ]
  },
  {
   "cell_type": "code",
   "execution_count": 1,
   "metadata": {},
   "outputs": [],
   "source": [
    "import hkvsobekpy as hkv\n",
    "import geopandas as gpd\n",
    "import os"
   ]
  },
  {
   "cell_type": "markdown",
   "metadata": {},
   "source": [
    "Ook bepalen we de input bestanden."
   ]
  },
  {
   "cell_type": "code",
   "execution_count": 2,
   "metadata": {},
   "outputs": [],
   "source": [
    "bui_file = r'input_data\\plausibiliteits-validatie\\T100ST2.BUI'\n",
    "his_folder = r'input_data\\plausibiliteits-validatie'\n",
    "shp_file = r'input_data\\plausibiliteits-validatie\\Sbk_FGrPt_n.dbf'"
   ]
  },
  {
   "cell_type": "markdown",
   "metadata": {},
   "source": [
    "Naast het .his-bestand is er een .shp-bestand gedefinieerd met een bijbehorende .dbf-bestand. De kolom met naam van his-file, locatie en parameter die hierin staan gedefinieerd worden gebruikt voor het inlezen van de periode in een his-bestand. \n",
    "Het is daarom van belang dat deze namen correct zijn. \n",
    "\n",
    "De shp-file kunnen we als volgt inlezen naar een `GeoDataFrame` en vervolgens plotten in figuur (de `shp`) en tabel (de `dbf`)"
   ]
  },
  {
   "cell_type": "code",
   "execution_count": 3,
   "metadata": {},
   "outputs": [
    {
     "data": {
      "text/html": [
       "<div>\n",
       "<style scoped>\n",
       "    .dataframe tbody tr th:only-of-type {\n",
       "        vertical-align: middle;\n",
       "    }\n",
       "\n",
       "    .dataframe tbody tr th {\n",
       "        vertical-align: top;\n",
       "    }\n",
       "\n",
       "    .dataframe thead th {\n",
       "        text-align: right;\n",
       "    }\n",
       "</style>\n",
       "<table border=\"1\" class=\"dataframe\">\n",
       "  <thead>\n",
       "    <tr style=\"text-align: right;\">\n",
       "      <th></th>\n",
       "      <th>ID________</th>\n",
       "      <th>NAME______</th>\n",
       "      <th>TYPE______</th>\n",
       "      <th>PARENTID__</th>\n",
       "      <th>USERID____</th>\n",
       "      <th>X_________</th>\n",
       "      <th>Y_________</th>\n",
       "      <th>Z_________</th>\n",
       "      <th>COLOR_____</th>\n",
       "      <th>HIS_FILE</th>\n",
       "      <th>LOCATIES</th>\n",
       "      <th>PARAMETERS</th>\n",
       "      <th>geometry</th>\n",
       "    </tr>\n",
       "  </thead>\n",
       "  <tbody>\n",
       "    <tr>\n",
       "      <th>0</th>\n",
       "      <td>calc_1</td>\n",
       "      <td>0.000000000000000</td>\n",
       "      <td>Flow - Fixed Calculation Point</td>\n",
       "      <td>SBK_GRIDPOINTFIXED</td>\n",
       "      <td></td>\n",
       "      <td>80423.3177</td>\n",
       "      <td>454347.0958</td>\n",
       "      <td>0.0</td>\n",
       "      <td>8388863.0</td>\n",
       "      <td>calcpnt</td>\n",
       "      <td>calc_1</td>\n",
       "      <td>Waterlevel mean (m AD</td>\n",
       "      <td>None</td>\n",
       "    </tr>\n",
       "    <tr>\n",
       "      <th>1</th>\n",
       "      <td>calc_2</td>\n",
       "      <td>0.000000000000000</td>\n",
       "      <td>Flow - Fixed Calculation Point</td>\n",
       "      <td>SBK_GRIDPOINTFIXED</td>\n",
       "      <td></td>\n",
       "      <td>80427.9324</td>\n",
       "      <td>454338.2494</td>\n",
       "      <td>0.0</td>\n",
       "      <td>8388863.0</td>\n",
       "      <td>calcpnt</td>\n",
       "      <td>calc_2</td>\n",
       "      <td>Waterlevel mean (m AD</td>\n",
       "      <td>None</td>\n",
       "    </tr>\n",
       "    <tr>\n",
       "      <th>2</th>\n",
       "      <td>calc_4</td>\n",
       "      <td>24.699999999999999</td>\n",
       "      <td>Flow - Fixed Calculation Point</td>\n",
       "      <td>SBK_GRIDPOINTFIXED</td>\n",
       "      <td></td>\n",
       "      <td>81859.9993</td>\n",
       "      <td>456551.2446</td>\n",
       "      <td>0.0</td>\n",
       "      <td>8388863.0</td>\n",
       "      <td>reachseg</td>\n",
       "      <td>1</td>\n",
       "      <td>Waterlevel slope MEA</td>\n",
       "      <td>None</td>\n",
       "    </tr>\n",
       "    <tr>\n",
       "      <th>3</th>\n",
       "      <td>calc_6</td>\n",
       "      <td>27.000000000000000</td>\n",
       "      <td>Flow - Fixed Calculation Point</td>\n",
       "      <td>SBK_GRIDPOINTFIXED</td>\n",
       "      <td></td>\n",
       "      <td>82463.6157</td>\n",
       "      <td>456893.4409</td>\n",
       "      <td>0.0</td>\n",
       "      <td>8388863.0</td>\n",
       "      <td>reachseg</td>\n",
       "      <td>1</td>\n",
       "      <td>Discharge mean (m3/s)</td>\n",
       "      <td>None</td>\n",
       "    </tr>\n",
       "  </tbody>\n",
       "</table>\n",
       "</div>"
      ],
      "text/plain": [
       "  ID________          NAME______                      TYPE______  \\\n",
       "0     calc_1   0.000000000000000  Flow - Fixed Calculation Point   \n",
       "1     calc_2   0.000000000000000  Flow - Fixed Calculation Point   \n",
       "2     calc_4  24.699999999999999  Flow - Fixed Calculation Point   \n",
       "3     calc_6  27.000000000000000  Flow - Fixed Calculation Point   \n",
       "\n",
       "           PARENTID__ USERID____  X_________   Y_________  Z_________  \\\n",
       "0  SBK_GRIDPOINTFIXED             80423.3177  454347.0958         0.0   \n",
       "1  SBK_GRIDPOINTFIXED             80427.9324  454338.2494         0.0   \n",
       "2  SBK_GRIDPOINTFIXED             81859.9993  456551.2446         0.0   \n",
       "3  SBK_GRIDPOINTFIXED             82463.6157  456893.4409         0.0   \n",
       "\n",
       "   COLOR_____  HIS_FILE LOCATIES             PARAMETERS geometry  \n",
       "0   8388863.0   calcpnt   calc_1  Waterlevel mean (m AD     None  \n",
       "1   8388863.0   calcpnt   calc_2  Waterlevel mean (m AD     None  \n",
       "2   8388863.0  reachseg        1   Waterlevel slope MEA     None  \n",
       "3   8388863.0  reachseg        1  Discharge mean (m3/s)     None  "
      ]
     },
     "execution_count": 3,
     "metadata": {},
     "output_type": "execute_result"
    }
   ],
   "source": [
    "gdf = gpd.read_file(shp_file)\n",
    "# gdf.plot() # in geval van een shp bron-bestand\n",
    "gdf.head()"
   ]
  },
  {
   "cell_type": "markdown",
   "metadata": {},
   "source": [
    "Te zien is dat de dbf behorende bij de shapefile heeft de kolom `his_file` met daarin de namen van de daarbij behorende his-file. In de `locaties` kolom staan de locaties of interest en in de kolom `parameters` staan de parameter welke van belang is. \n",
    "\n",
    "Deze drie koloms worden als shp_key gedefineerd:"
   ]
  },
  {
   "cell_type": "code",
   "execution_count": 4,
   "metadata": {},
   "outputs": [],
   "source": [
    "shp_hiskey = 'HIS_FILE'\n",
    "shp_locationkey = 'LOCATIES'\n",
    "shp_parameterkey = 'PARAMETERS'"
   ]
  },
  {
   "cell_type": "markdown",
   "metadata": {},
   "source": [
    "Voor demo doeleinden werken we verder met de eigenschappen van deze keys voor regel 2"
   ]
  },
  {
   "cell_type": "code",
   "execution_count": 5,
   "metadata": {},
   "outputs": [
    {
     "name": "stdout",
     "output_type": "stream",
     "text": [
      " his_file : calcpnt\n",
      " location : calc_2\n",
      " parameter : Waterlevel mean (m AD\n"
     ]
    }
   ],
   "source": [
    "row = 1\n",
    "his_file = gdf[shp_hiskey].iloc[row]\n",
    "location = gdf[shp_locationkey].iloc[row]\n",
    "parameter = gdf[shp_parameterkey].iloc[row]\n",
    "\n",
    "# selection of location and parameter through `read_his`\n",
    "# hkv.read_his.LeesMetadata(os.path.join(his_folder,'{0}.his'.format(his_file)))\n",
    "# parameter = hkv.read_his.KrijgParameters()[0]\n",
    "# locatie = hkv.read_his.KrijgLokaties()[40]\n",
    "\n",
    "print(' his_file : {0}\\n location : {1}\\n parameter : {2}'.format(his_file, location, parameter))"
   ]
  },
  {
   "cell_type": "markdown",
   "metadata": {},
   "source": [
    "Met de volgende commando kunnen we vervolgens een series uitlezen uit dit his-bestand. Als input gebruiken we een zelf gedefineerde parameter vanuit de dbf/shp file. Sinds het matchen van de juiste parameter naam in het his-bestand niet altijd even makkelijk is (superscript-, codec-, hoofdletter-, spatie-, spelfout-gevoelig) zijn er twee extra opties om dit proces te vermakkelijken. \n",
    "\n",
    "Namelijk:\n",
    "\n",
    "1. NFKD unicode compatibiliteit decompositie (`normalize_by_unicode=True`) en \n",
    "2. patroonherkenning (`include_simularity=True`)\n",
    "\n",
    "Voor de patroonherkenning is ook een grenswaarde vereist, deze staat nu op 0.82 (`sequence_simularity`). \n",
    "\n",
    "Wanneer de input-parameter niet identiek is, maar wel een match gevonden kan worden via de compatibiliteit decompositie of patroonherkenning kan deze met `return_matching_parameter` geretourneerd worden. Zie onderaan dit notebook voor een voorbeeld van de verschillen."
   ]
  },
  {
   "cell_type": "code",
   "execution_count": 6,
   "metadata": {},
   "outputs": [
    {
     "name": "stdout",
     "output_type": "stream",
     "text": [
      "Waterlevel mean (m AD changed into Waterlevel mean (m A, since similarity is 0.98\n"
     ]
    },
    {
     "data": {
      "text/html": [
       "<div>\n",
       "<style scoped>\n",
       "    .dataframe tbody tr th:only-of-type {\n",
       "        vertical-align: middle;\n",
       "    }\n",
       "\n",
       "    .dataframe tbody tr th {\n",
       "        vertical-align: top;\n",
       "    }\n",
       "\n",
       "    .dataframe thead tr th {\n",
       "        text-align: left;\n",
       "    }\n",
       "</style>\n",
       "<table border=\"1\" class=\"dataframe\">\n",
       "  <thead>\n",
       "    <tr>\n",
       "      <th>location</th>\n",
       "      <th>calc_2</th>\n",
       "    </tr>\n",
       "    <tr>\n",
       "      <th>parameter</th>\n",
       "      <th>Waterlevel mean (m A</th>\n",
       "    </tr>\n",
       "  </thead>\n",
       "  <tbody>\n",
       "    <tr>\n",
       "      <th>1950-01-01 00:00:00</th>\n",
       "      <td>-0.430000</td>\n",
       "    </tr>\n",
       "    <tr>\n",
       "      <th>1950-01-01 00:15:00</th>\n",
       "      <td>-0.448960</td>\n",
       "    </tr>\n",
       "    <tr>\n",
       "      <th>1950-01-01 00:30:00</th>\n",
       "      <td>-0.529395</td>\n",
       "    </tr>\n",
       "    <tr>\n",
       "      <th>1950-01-01 00:45:00</th>\n",
       "      <td>-0.493480</td>\n",
       "    </tr>\n",
       "    <tr>\n",
       "      <th>1950-01-01 01:00:00</th>\n",
       "      <td>-0.480057</td>\n",
       "    </tr>\n",
       "  </tbody>\n",
       "</table>\n",
       "</div>"
      ],
      "text/plain": [
       "location                          calc_2\n",
       "parameter           Waterlevel mean (m A\n",
       "1950-01-01 00:00:00            -0.430000\n",
       "1950-01-01 00:15:00            -0.448960\n",
       "1950-01-01 00:30:00            -0.529395\n",
       "1950-01-01 00:45:00            -0.493480\n",
       "1950-01-01 01:00:00            -0.480057"
      ]
     },
     "execution_count": 6,
     "metadata": {},
     "output_type": "execute_result"
    }
   ],
   "source": [
    "df_his, parameter = hkv.read_his.read_series(his_file=his_file, location=location, parameter=parameter,                                              \n",
    "                                             his_folder=his_folder, \n",
    "                                             normalize_by_unicode=True, include_simularity=True, sequence_simularity=0.82,\n",
    "                                             return_matching_parameter=True)\n",
    "df_his.head()"
   ]
  },
  {
   "cell_type": "markdown",
   "metadata": {},
   "source": [
    "Informatie in het bui-bestand kunnen we op de volgende manier inlezen."
   ]
  },
  {
   "cell_type": "code",
   "execution_count": 7,
   "metadata": {},
   "outputs": [
    {
     "data": {
      "text/plain": [
       "<matplotlib.axes._subplots.AxesSubplot at 0x1b5d3a58>"
      ]
     },
     "execution_count": 7,
     "metadata": {},
     "output_type": "execute_result"
    },
    {
     "data": {
      "image/png": "[encoded data removed]",
      "text/plain": [
       "<matplotlib.figure.Figure at 0xd27ef60>"
      ]
     },
     "metadata": {},
     "output_type": "display_data"
    }
   ],
   "source": [
    "# parse bui-file to pandas dataframe\n",
    "df_bui = hkv.read_bui(bui_file)\n",
    "\n",
    "# location to query\n",
    "bui_location = 'De Bilt'\n",
    "# since it's hour data, only plot 6 months\n",
    "df_bui.plot()"
   ]
  },
  {
   "cell_type": "code",
   "execution_count": 8,
   "metadata": {},
   "outputs": [
    {
     "data": {
      "text/html": [
       "<div>\n",
       "<style scoped>\n",
       "    .dataframe tbody tr th:only-of-type {\n",
       "        vertical-align: middle;\n",
       "    }\n",
       "\n",
       "    .dataframe tbody tr th {\n",
       "        vertical-align: top;\n",
       "    }\n",
       "\n",
       "    .dataframe thead th {\n",
       "        text-align: right;\n",
       "    }\n",
       "</style>\n",
       "<table border=\"1\" class=\"dataframe\">\n",
       "  <thead>\n",
       "    <tr style=\"text-align: right;\">\n",
       "      <th></th>\n",
       "      <th>De Bilt</th>\n",
       "      <th>Verdamping</th>\n",
       "      <th>De Bilt Test</th>\n",
       "    </tr>\n",
       "  </thead>\n",
       "  <tbody>\n",
       "    <tr>\n",
       "      <th>1950-01-01 00:00:00</th>\n",
       "      <td>0.00000</td>\n",
       "      <td>0</td>\n",
       "      <td>0.000000</td>\n",
       "    </tr>\n",
       "    <tr>\n",
       "      <th>1950-01-01 01:00:00</th>\n",
       "      <td>0.20691</td>\n",
       "      <td>0</td>\n",
       "      <td>0.248292</td>\n",
       "    </tr>\n",
       "    <tr>\n",
       "      <th>1950-01-01 02:00:00</th>\n",
       "      <td>0.51183</td>\n",
       "      <td>0</td>\n",
       "      <td>0.614196</td>\n",
       "    </tr>\n",
       "    <tr>\n",
       "      <th>1950-01-01 03:00:00</th>\n",
       "      <td>0.60984</td>\n",
       "      <td>0</td>\n",
       "      <td>0.731808</td>\n",
       "    </tr>\n",
       "    <tr>\n",
       "      <th>1950-01-01 04:00:00</th>\n",
       "      <td>0.41382</td>\n",
       "      <td>0</td>\n",
       "      <td>0.496584</td>\n",
       "    </tr>\n",
       "  </tbody>\n",
       "</table>\n",
       "</div>"
      ],
      "text/plain": [
       "                     De Bilt  Verdamping  De Bilt Test\n",
       "1950-01-01 00:00:00  0.00000           0      0.000000\n",
       "1950-01-01 01:00:00  0.20691           0      0.248292\n",
       "1950-01-01 02:00:00  0.51183           0      0.614196\n",
       "1950-01-01 03:00:00  0.60984           0      0.731808\n",
       "1950-01-01 04:00:00  0.41382           0      0.496584"
      ]
     },
     "execution_count": 8,
     "metadata": {},
     "output_type": "execute_result"
    }
   ],
   "source": [
    "df_bui.head()"
   ]
  },
  {
   "cell_type": "markdown",
   "metadata": {},
   "source": [
    "Het resultaat is een DataFrame met in de kolommen de neerslag in mm voor de stations en in de rijen de waarnemingstijdstappen"
   ]
  },
  {
   "cell_type": "markdown",
   "metadata": {},
   "source": [
    "Om een combinatie plot te maken van bui-bestand en een his-bestand is het allereerst van belang om een aantal eigenschappen in te lezen."
   ]
  },
  {
   "cell_type": "code",
   "execution_count": 9,
   "metadata": {},
   "outputs": [],
   "source": [
    "bui_locations = ['De Bilt','Verdamping','De Bilt Test']\n",
    "df_bui_sel, start_his, end_his, df_bui_std, df_his_std = hkv.plausibility.prepare_bui_his(df_his, df_bui, bui_locations)"
   ]
  },
  {
   "cell_type": "code",
   "execution_count": 10,
   "metadata": {},
   "outputs": [],
   "source": [
    "out_folder =r'output_data\\plausibiliteits-validatie'"
   ]
  },
  {
   "cell_type": "markdown",
   "metadata": {},
   "source": [
    "Voor de het plotten van de bui-lokaties is het mogelijk om deze als een bar-chart te plotten (tot 3 lokaties). Dit kan met de optie `barthreshold` (kies uit 1, 2 of 3 [waarden boven 3 worden als 3 behandeld]). Sinds het plotten van meerde lokaties als bar-chart lastig is qua visualisatie (ze komen boven op elkaar), kan er met `barwidth` en `baroffset` enigszins getuned worden om een voor de gebruiker juiste plot te krijgen.\n",
    "\n",
    "Wanneer het aantal input bui-lokaties boven de `barthreshold` uitkomt, wordt het figuur geplot met een lijndiagram met een transparante filling zodat de verschillende buien zichtbaar blijven. "
   ]
  },
  {
   "cell_type": "code",
   "execution_count": 11,
   "metadata": {},
   "outputs": [
    {
     "name": "stdout",
     "output_type": "stream",
     "text": [
      "create a barchart for the bui-locations\n"
     ]
    },
    {
     "data": {
      "image/png": "[encoded data removed]",
      "text/plain": [
       "<matplotlib.figure.Figure at 0x35319b0>"
      ]
     },
     "metadata": {},
     "output_type": "display_data"
    }
   ],
   "source": [
    "hkv.plausibility.plot_bui_his(df_his, df_bui_sel, start_his, end_his, \n",
    "                              df_bui_std, df_his_std, his_file, \n",
    "                              parameter, location, out_folder, \n",
    "                              savefigure=False, barthreshold=3, barwidth=0.02, baroffset=0.01 )"
   ]
  },
  {
   "cell_type": "markdown",
   "metadata": {},
   "source": [
    "En in tabel formaat"
   ]
  },
  {
   "cell_type": "code",
   "execution_count": 12,
   "metadata": {},
   "outputs": [
    {
     "data": {
      "text/html": [
       "<div>\n",
       "<style scoped>\n",
       "    .dataframe tbody tr th:only-of-type {\n",
       "        vertical-align: middle;\n",
       "    }\n",
       "\n",
       "    .dataframe tbody tr th {\n",
       "        vertical-align: top;\n",
       "    }\n",
       "\n",
       "    .dataframe thead tr th {\n",
       "        text-align: left;\n",
       "    }\n",
       "</style>\n",
       "<table border=\"1\" class=\"dataframe\">\n",
       "  <thead>\n",
       "    <tr>\n",
       "      <th>location</th>\n",
       "      <th>calc_2</th>\n",
       "      <th>De Bilt</th>\n",
       "      <th>Verdamping</th>\n",
       "      <th>De Bilt Test</th>\n",
       "    </tr>\n",
       "    <tr>\n",
       "      <th>parameter</th>\n",
       "      <th>Waterlevel mean (m A</th>\n",
       "      <th>Precipitation (mm)</th>\n",
       "      <th>Precipitation (mm)</th>\n",
       "      <th>Precipitation (mm)</th>\n",
       "    </tr>\n",
       "  </thead>\n",
       "  <tbody>\n",
       "    <tr>\n",
       "      <th>1950-01-01 00:00:00</th>\n",
       "      <td>-0.430000</td>\n",
       "      <td>0.00000</td>\n",
       "      <td>0.0</td>\n",
       "      <td>0.000000</td>\n",
       "    </tr>\n",
       "    <tr>\n",
       "      <th>1950-01-01 00:15:00</th>\n",
       "      <td>-0.448960</td>\n",
       "      <td>NaN</td>\n",
       "      <td>NaN</td>\n",
       "      <td>NaN</td>\n",
       "    </tr>\n",
       "    <tr>\n",
       "      <th>1950-01-01 00:30:00</th>\n",
       "      <td>-0.529395</td>\n",
       "      <td>NaN</td>\n",
       "      <td>NaN</td>\n",
       "      <td>NaN</td>\n",
       "    </tr>\n",
       "    <tr>\n",
       "      <th>1950-01-01 00:45:00</th>\n",
       "      <td>-0.493480</td>\n",
       "      <td>NaN</td>\n",
       "      <td>NaN</td>\n",
       "      <td>NaN</td>\n",
       "    </tr>\n",
       "    <tr>\n",
       "      <th>1950-01-01 01:00:00</th>\n",
       "      <td>-0.480057</td>\n",
       "      <td>0.20691</td>\n",
       "      <td>0.0</td>\n",
       "      <td>0.248292</td>\n",
       "    </tr>\n",
       "  </tbody>\n",
       "</table>\n",
       "</div>"
      ],
      "text/plain": [
       "location                          calc_2            De Bilt  \\\n",
       "parameter           Waterlevel mean (m A Precipitation (mm)   \n",
       "1950-01-01 00:00:00            -0.430000            0.00000   \n",
       "1950-01-01 00:15:00            -0.448960                NaN   \n",
       "1950-01-01 00:30:00            -0.529395                NaN   \n",
       "1950-01-01 00:45:00            -0.493480                NaN   \n",
       "1950-01-01 01:00:00            -0.480057            0.20691   \n",
       "\n",
       "location                    Verdamping       De Bilt Test  \n",
       "parameter           Precipitation (mm) Precipitation (mm)  \n",
       "1950-01-01 00:00:00                0.0           0.000000  \n",
       "1950-01-01 00:15:00                NaN                NaN  \n",
       "1950-01-01 00:30:00                NaN                NaN  \n",
       "1950-01-01 00:45:00                NaN                NaN  \n",
       "1950-01-01 01:00:00                0.0           0.248292  "
      ]
     },
     "execution_count": 12,
     "metadata": {},
     "output_type": "execute_result"
    }
   ],
   "source": [
    "df_bui_his = hkv.plausibility.table_bui_his(df_his, df_bui_sel)\n",
    "df_bui_his.head()"
   ]
  },
  {
   "cell_type": "markdown",
   "metadata": {},
   "source": [
    "Deze tabel kan op de volgende manier weggeschreven worden als csv-bestand.\n",
    "De uitgecommenteerde code laat zien hoe het csv-bestand weer ingelezen kan worden."
   ]
  },
  {
   "cell_type": "code",
   "execution_count": 13,
   "metadata": {},
   "outputs": [],
   "source": [
    "bui_his_to_csv = os.path.join(out_folder, 'comb_his_bui.csv')\n",
    "df_bui_his.to_csv(bui_his_to_csv)\n",
    "\n",
    "## use pandas to read exported csvfile\n",
    "# import pandas as pd\n",
    "\n",
    "# df_in = pd.read_csv(bui_his_to_csv, header=[0, 1])\n",
    "# df_in.head()"
   ]
  },
  {
   "cell_type": "markdown",
   "metadata": {},
   "source": [
    "Al het bovenstaande kan ook automatsich weggeschreven worden naar de output folder. Binnen de output folder worden de afgeleide figuren weggeschreven. De opties die hierboven zijn uitgewerkt zijn ook beschikbaar binnen de `EnsembleRunner`."
   ]
  },
  {
   "cell_type": "code",
   "execution_count": 14,
   "metadata": {},
   "outputs": [
    {
     "name": "stdout",
     "output_type": "stream",
     "text": [
      "start ensemble runner\n",
      "read shp-file\n",
      "read bui-file\n",
      "Waterlevel mean (m AD changed into Waterlevel mean (m A, since similarity is 0.98\n",
      "create a barchart for the bui-locations\n",
      "Waterlevel mean (m AD changed into Waterlevel mean (m A, since similarity is 0.98\n",
      "create a barchart for the bui-locations\n",
      "Normalized unicode Waterlevel slope MEA matches Waterlevel slope mea\n",
      "create a barchart for the bui-locations\n",
      "Discharge mean (m3/s) changed into Discharge mean(m³/s), since similarity is 0.98\n",
      "create a barchart for the bui-locations\n",
      "\n",
      "done\n"
     ]
    }
   ],
   "source": [
    "hkv.plausibility.EnsembleRunner(shp_file, bui_file, his_folder, out_folder, shp_hiskey, shp_locationkey, shp_parameterkey)"
   ]
  },
  {
   "cell_type": "code",
   "execution_count": null,
   "metadata": {},
   "outputs": [],
   "source": []
  },
  {
   "cell_type": "markdown",
   "metadata": {},
   "source": [
    "#### Verschil qua mapping van `normalize_by_unicode` en `include_simularity` met een voorbeeld:\n",
    "\n",
    "His-parameter naam : `Discharge mean(m³/s)`\n",
    "\n",
    "Foutieve inputs vanuit de dbf/shp file:\n",
    "\n",
    "a. : `Discharge mean (m3/s)`\n",
    "\n",
    "b. : `DiscHaRge Mean`\n",
    "\n",
    "c. : `Discharge mean(m3/s)`\n",
    "\n",
    "\n",
    "Opties:\n",
    "`normalize_by_unicode=`**`True`**, `include_simularity=`**`False`**\n",
    "\n",
    "alleen `Discharge mean (m3/s)` (optie `a`) wordt gemapped\n",
    "\n",
    "  .\n",
    "  \n",
    "`normalize_by_unicode=`**`False`**, `include_simularity=`**`True`**\n",
    "\n",
    "zowel `Discharge mean (m3/s)` (optie `a`) als\n",
    "\n",
    "`Discharge mean(m3/s)` (optie `c`) wordt gemapped\n",
    "\n",
    "  .\n",
    "  \n",
    "`normalize_by_unicode=`**`True`**, `include_simularity=`**`True`**\n",
    "\n",
    "zowel `Discharge mean (m3/s)` (optie `a`) als\n",
    "\n",
    "`DiscHaRge Mean` (optie `b`) en\n",
    "\n",
    "`Discharge mean(m3/s)` (optie `c`) wordt gemapped."
   ]
  },
  {
   "cell_type": "code",
   "execution_count": null,
   "metadata": {},
   "outputs": [],
   "source": []
  }
 ],
 "metadata": {
  "kernelspec": {
   "display_name": "Python 3",
   "language": "python",
   "name": "python3"
  },
  "language_info": {
   "codemirror_mode": {
    "name": "ipython",
    "version": 3
   },
   "file_extension": ".py",
   "mimetype": "text/x-python",
   "name": "python",
   "nbconvert_exporter": "python",
   "pygments_lexer": "ipython3",
   "version": "3.5.2"
  },
  "widgets": {
   "state": {
    "01b7c91369514df6a6e0cf93f87bb0be": {
     "views": [
      {
       "cell_index": 27
      }
     ]
    }
   },
   "version": "1.2.0"
  }
 },
 "nbformat": 4,
 "nbformat_minor": 2
}
